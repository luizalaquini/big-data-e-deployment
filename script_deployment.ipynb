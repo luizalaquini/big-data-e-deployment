{
 "cells": [
  {
   "cell_type": "markdown",
   "metadata": {},
   "source": [
    "**UNIVERSIDADE DE SÃO PAULO**<br>\n",
    "**MBA DATA SCIENCE & ANALYTICS USP/ESALQ**<br>\n",
    "**BIG DATA E DEPLOYMENT DE MODELOS**<br>\n",
    "**Prof. Helder Prado Santos**<br>\n",
    "Aluna: Luiza Batista Laquini<br>\n",
    "Turma: DSA 241<br>\n",
    "\n",
    "*coding: utf-8*"
   ]
  },
  {
   "cell_type": "code",
   "execution_count": 9,
   "metadata": {},
   "outputs": [],
   "source": [
    "# ========= Instruções para o funcionamento dos scripts das aulas =============\n",
    "# =============================================================================\n",
    "# No diretório que os arquivos foram carregados, será necessário criar um ambi-\n",
    "# ente virtual digitando o seguinte comando no terminal\n",
    "# =============================================================================\n",
    "# Qualquer sistema operacional: python3 -m venv venv\n",
    "# =============================================================================\n",
    "# Logo em seguida, será necessário acessar o ambiente virtual criado digitando\n",
    "# o seguinte comando no terminal\n",
    "# =============================================================================\n",
    "# Windows: .\\venv\\Scripts\\activate\n",
    "# Linux: /venv/bin/activate\n",
    "# =============================================================================\n",
    "# Após acessar o ambiente virtual, irá aparecer o nome (venv) entre parênteses\n",
    "# na parte lateral esquerda do terminal\n",
    "# Em seguida, será necessário instalar os pacotes nessessários digitando o se-\n",
    "# guinte comando no terminal\n",
    "# =============================================================================\n",
    "# Qualquer sistema operacional: pip install -r requirements.txt\n",
    "# =============================================================================\n",
    "# Após a instalação de todos os pacotes, você já poderar inicializar o serviço\n",
    "# do MLflow digitando o seguinte comando no terminal\n",
    "# =============================================================================\n",
    "# Qualquer sistema operacional: mlflow ui\n",
    "# =============================================================================\n",
    "# Com o MLflow inicializado, você poderá acessar a aplicação via browser digi-\n",
    "# tando o seguinte endereço no seu browser de preferência\n",
    "# =============================================================================\n",
    "# No browser (Firefox, Chorme, outro de preferência): http://localhost:5000\n",
    "# =============================================================================\n",
    "# Caso localhost não funcione, tente:\n",
    "# http://0.0.0.0:5000 ou http://127.0.0.1:5000\n",
    "# ============================================================================="
   ]
  },
  {
   "cell_type": "markdown",
   "metadata": {},
   "source": [
    "### Modelos locais"
   ]
  },
  {
   "cell_type": "code",
   "execution_count": 10,
   "metadata": {},
   "outputs": [],
   "source": [
    "# Pacotes que serão utilizados em todo o script\n",
    "import pandas as pd\n",
    "import mlflow\n",
    "import statsmodels.api as sm\n",
    "import json\n",
    "import requests\n",
    "import matplotlib.pyplot as plt\n",
    "\n",
    "import warnings\n",
    "warnings.filterwarnings('ignore')"
   ]
  },
  {
   "cell_type": "code",
   "execution_count": 11,
   "metadata": {},
   "outputs": [],
   "source": [
    "# Coletando o caminho do dataset\n",
    "caminho = \"./data/tempodist.csv\"\n",
    "\n",
    "# Carregando o dataset\n",
    "df_tempodist = pd.read_csv(caminho)"
   ]
  },
  {
   "cell_type": "code",
   "execution_count": 12,
   "metadata": {},
   "outputs": [
    {
     "data": {
      "text/html": [
       "<div>\n",
       "<style scoped>\n",
       "    .dataframe tbody tr th:only-of-type {\n",
       "        vertical-align: middle;\n",
       "    }\n",
       "\n",
       "    .dataframe tbody tr th {\n",
       "        vertical-align: top;\n",
       "    }\n",
       "\n",
       "    .dataframe thead th {\n",
       "        text-align: right;\n",
       "    }\n",
       "</style>\n",
       "<table border=\"1\" class=\"dataframe\">\n",
       "  <thead>\n",
       "    <tr style=\"text-align: right;\">\n",
       "      <th></th>\n",
       "      <th>tempo</th>\n",
       "      <th>distancia</th>\n",
       "    </tr>\n",
       "  </thead>\n",
       "  <tbody>\n",
       "    <tr>\n",
       "      <th>0</th>\n",
       "      <td>15</td>\n",
       "      <td>8</td>\n",
       "    </tr>\n",
       "    <tr>\n",
       "      <th>1</th>\n",
       "      <td>20</td>\n",
       "      <td>6</td>\n",
       "    </tr>\n",
       "    <tr>\n",
       "      <th>2</th>\n",
       "      <td>20</td>\n",
       "      <td>15</td>\n",
       "    </tr>\n",
       "    <tr>\n",
       "      <th>3</th>\n",
       "      <td>40</td>\n",
       "      <td>20</td>\n",
       "    </tr>\n",
       "    <tr>\n",
       "      <th>4</th>\n",
       "      <td>50</td>\n",
       "      <td>25</td>\n",
       "    </tr>\n",
       "    <tr>\n",
       "      <th>5</th>\n",
       "      <td>25</td>\n",
       "      <td>11</td>\n",
       "    </tr>\n",
       "    <tr>\n",
       "      <th>6</th>\n",
       "      <td>10</td>\n",
       "      <td>5</td>\n",
       "    </tr>\n",
       "    <tr>\n",
       "      <th>7</th>\n",
       "      <td>55</td>\n",
       "      <td>32</td>\n",
       "    </tr>\n",
       "    <tr>\n",
       "      <th>8</th>\n",
       "      <td>35</td>\n",
       "      <td>28</td>\n",
       "    </tr>\n",
       "    <tr>\n",
       "      <th>9</th>\n",
       "      <td>30</td>\n",
       "      <td>20</td>\n",
       "    </tr>\n",
       "  </tbody>\n",
       "</table>\n",
       "</div>"
      ],
      "text/plain": [
       "   tempo  distancia\n",
       "0     15          8\n",
       "1     20          6\n",
       "2     20         15\n",
       "3     40         20\n",
       "4     50         25\n",
       "5     25         11\n",
       "6     10          5\n",
       "7     55         32\n",
       "8     35         28\n",
       "9     30         20"
      ]
     },
     "execution_count": 12,
     "metadata": {},
     "output_type": "execute_result"
    }
   ],
   "source": [
    "# Relembrando o dataset tempodist\n",
    "df_tempodist"
   ]
  },
  {
   "cell_type": "code",
   "execution_count": 13,
   "metadata": {},
   "outputs": [
    {
     "name": "stdout",
     "output_type": "stream",
     "text": [
      "<class 'pandas.core.frame.DataFrame'>\n",
      "RangeIndex: 10 entries, 0 to 9\n",
      "Data columns (total 2 columns):\n",
      " #   Column     Non-Null Count  Dtype\n",
      "---  ------     --------------  -----\n",
      " 0   tempo      10 non-null     int64\n",
      " 1   distancia  10 non-null     int64\n",
      "dtypes: int64(2)\n",
      "memory usage: 292.0 bytes\n"
     ]
    }
   ],
   "source": [
    "# Verificando as informações do dataset e possíveis valores nulos\n",
    "df_tempodist.info()"
   ]
  },
  {
   "cell_type": "code",
   "execution_count": 14,
   "metadata": {},
   "outputs": [
    {
     "data": {
      "text/html": [
       "<div>\n",
       "<style scoped>\n",
       "    .dataframe tbody tr th:only-of-type {\n",
       "        vertical-align: middle;\n",
       "    }\n",
       "\n",
       "    .dataframe tbody tr th {\n",
       "        vertical-align: top;\n",
       "    }\n",
       "\n",
       "    .dataframe thead th {\n",
       "        text-align: right;\n",
       "    }\n",
       "</style>\n",
       "<table border=\"1\" class=\"dataframe\">\n",
       "  <thead>\n",
       "    <tr style=\"text-align: right;\">\n",
       "      <th></th>\n",
       "      <th>tempo</th>\n",
       "      <th>distancia</th>\n",
       "    </tr>\n",
       "  </thead>\n",
       "  <tbody>\n",
       "    <tr>\n",
       "      <th>count</th>\n",
       "      <td>10.00000</td>\n",
       "      <td>10.000000</td>\n",
       "    </tr>\n",
       "    <tr>\n",
       "      <th>mean</th>\n",
       "      <td>30.00000</td>\n",
       "      <td>17.000000</td>\n",
       "    </tr>\n",
       "    <tr>\n",
       "      <th>std</th>\n",
       "      <td>14.90712</td>\n",
       "      <td>9.510228</td>\n",
       "    </tr>\n",
       "    <tr>\n",
       "      <th>min</th>\n",
       "      <td>10.00000</td>\n",
       "      <td>5.000000</td>\n",
       "    </tr>\n",
       "    <tr>\n",
       "      <th>25%</th>\n",
       "      <td>20.00000</td>\n",
       "      <td>8.750000</td>\n",
       "    </tr>\n",
       "    <tr>\n",
       "      <th>50%</th>\n",
       "      <td>27.50000</td>\n",
       "      <td>17.500000</td>\n",
       "    </tr>\n",
       "    <tr>\n",
       "      <th>75%</th>\n",
       "      <td>38.75000</td>\n",
       "      <td>23.750000</td>\n",
       "    </tr>\n",
       "    <tr>\n",
       "      <th>max</th>\n",
       "      <td>55.00000</td>\n",
       "      <td>32.000000</td>\n",
       "    </tr>\n",
       "  </tbody>\n",
       "</table>\n",
       "</div>"
      ],
      "text/plain": [
       "          tempo  distancia\n",
       "count  10.00000  10.000000\n",
       "mean   30.00000  17.000000\n",
       "std    14.90712   9.510228\n",
       "min    10.00000   5.000000\n",
       "25%    20.00000   8.750000\n",
       "50%    27.50000  17.500000\n",
       "75%    38.75000  23.750000\n",
       "max    55.00000  32.000000"
      ]
     },
     "execution_count": 14,
     "metadata": {},
     "output_type": "execute_result"
    }
   ],
   "source": [
    "# Verificando as variáveis descritivas das colunas\n",
    "df_tempodist.describe()"
   ]
  },
  {
   "cell_type": "code",
   "execution_count": 15,
   "metadata": {},
   "outputs": [
    {
     "name": "stdout",
     "output_type": "stream",
     "text": [
      "                            OLS Regression Results                            \n",
      "==============================================================================\n",
      "Dep. Variable:                  tempo   R-squared:                       0.819\n",
      "Model:                            OLS   Adj. R-squared:                  0.797\n",
      "Method:                 Least Squares   F-statistic:                     36.30\n",
      "Date:                Sun, 20 Oct 2024   Prob (F-statistic):           0.000314\n",
      "Time:                        16:41:41   Log-Likelihood:                -32.123\n",
      "No. Observations:                  10   AIC:                             68.25\n",
      "Df Residuals:                       8   BIC:                             68.85\n",
      "Df Model:                           1                                         \n",
      "Covariance Type:            nonrobust                                         \n",
      "==============================================================================\n",
      "                 coef    std err          t      P>|t|      [0.025      0.975]\n",
      "------------------------------------------------------------------------------\n",
      "Intercept      5.8784      4.532      1.297      0.231      -4.573      16.330\n",
      "distancia      1.4189      0.235      6.025      0.000       0.876       1.962\n",
      "==============================================================================\n",
      "Omnibus:                        1.016   Durbin-Watson:                   2.099\n",
      "Prob(Omnibus):                  0.602   Jarque-Bera (JB):                0.694\n",
      "Skew:                          -0.262   Prob(JB):                        0.707\n",
      "Kurtosis:                       1.820   Cond. No.                         41.1\n",
      "==============================================================================\n",
      "\n",
      "Notes:\n",
      "[1] Standard Errors assume that the covariance matrix of the errors is correctly specified.\n"
     ]
    }
   ],
   "source": [
    "# Treinando um modelo localmente\n",
    "modelo_nulo_local = sm.OLS.from_formula(\n",
    "    formula=\"tempo ~ distancia\", data=df_tempodist\n",
    ").fit()\n",
    "\n",
    "# Verificando seu output\n",
    "print(modelo_nulo_local.summary())"
   ]
  },
  {
   "cell_type": "markdown",
   "metadata": {},
   "source": [
    "Acima é a forma como estamos acostumados de treinar modelos localmente. Abaixo veja como treinar modelos no ambiente do mlflow:"
   ]
  },
  {
   "cell_type": "markdown",
   "metadata": {},
   "source": [
    "### Modelos no ambiente do mlflow"
   ]
  },
  {
   "cell_type": "code",
   "execution_count": 16,
   "metadata": {},
   "outputs": [],
   "source": [
    "# experiment = mlflow.get_experiment_by_name(\"Regressão Linear Simples - tempodist\")\n",
    "\n",
    "# if experiment is not None:\n",
    "#     mlflow.delete_experiment(experiment.experiment_id)"
   ]
  },
  {
   "cell_type": "code",
   "execution_count": 20,
   "metadata": {},
   "outputs": [
    {
     "name": "stderr",
     "output_type": "stream",
     "text": [
      "2024/10/20 16:44:42 INFO mlflow.tracking.fluent: Experiment with name 'Regressão Linear Simples - df tempodist' does not exist. Creating a new experiment.\n"
     ]
    },
    {
     "data": {
      "text/plain": [
       "<Experiment: artifact_location='mlflow-artifacts:/666240806145612744', creation_time=1729453482214, experiment_id='666240806145612744', last_update_time=1729453482214, lifecycle_stage='active', name='Regressão Linear Simples - df tempodist', tags={}>"
      ]
     },
     "execution_count": 20,
     "metadata": {},
     "output_type": "execute_result"
    }
   ],
   "source": [
    "# ==================== INICIALIZANDO COM O MLFLOW =============================\n",
    "\n",
    "# Apontar a instância do mlflow para o servidor que está rodando a aplicação\n",
    "mlflow.set_tracking_uri(\"http://localhost:5000\")\n",
    "\n",
    "# Criando o nosso primeiro experimento\n",
    "mlflow.set_experiment(experiment_name=\"Regressão Linear Simples - df tempodist\")"
   ]
  },
  {
   "cell_type": "code",
   "execution_count": 21,
   "metadata": {},
   "outputs": [
    {
     "name": "stderr",
     "output_type": "stream",
     "text": [
      "2024/10/20 16:45:36 WARNING mlflow.models.model: Model logged without a signature and input example. Please set `input_example` parameter when logging the model to auto infer the model signature.\n",
      "2024/10/20 16:45:36 INFO mlflow.tracking._tracking_service.client: 🏃 View run Modelo Nulo at: http://localhost:5000/#/experiments/666240806145612744/runs/28b9363bf63c4b79ab1e02c6c23ff444.\n",
      "2024/10/20 16:45:36 INFO mlflow.tracking._tracking_service.client: 🧪 View experiment at: http://localhost:5000/#/experiments/666240806145612744.\n"
     ]
    },
    {
     "data": {
      "image/png": "[encoded data removed]",
      "text/plain": [
       "<Figure size 640x480 with 1 Axes>"
      ]
     },
     "metadata": {},
     "output_type": "display_data"
    }
   ],
   "source": [
    "# ================== DEFINIÇÃO DOS INPUTS DO MODELO ===========================\n",
    "\n",
    "# Modelo proposto: Modelo nulo\n",
    "\n",
    "# Coleta dos metadados do dataset para o padrão do mlflow\n",
    "dataset = mlflow.data.from_pandas(df_tempodist)\n",
    "# Fórmula que serão utilizada no modelo\n",
    "formula = \"tempo ~ 1\"\n",
    "\n",
    "# Criando a nossa primeira run no mlflow\n",
    "with mlflow.start_run(run_name=\"Modelo Nulo\"):\n",
    "    # ==================== INPUTS =============================================\n",
    "\n",
    "    # Coleta dos metadados do dataset. O contexto pode ser utilizado para adi-\n",
    "    # cionar mais uma informação de contexto do dataset, por exemplo: se ele é\n",
    "    # um dataset de treino ou teste\n",
    "    mlflow.log_input(dataset, context=\"training\")\n",
    "\n",
    "    # Parâmetros de entrada para serem coletados\n",
    "    mlflow.log_param(\"Fórmula\", formula)\n",
    "\n",
    "    # ==================== MODELAGEM ==========================================\n",
    "\n",
    "    # Treinamento do modelo\n",
    "    modelo_nulo = sm.OLS.from_formula(formula=formula, data=df_tempodist).fit()\n",
    "\n",
    "    # ==================== OUTPUTS ============================================\n",
    "\n",
    "    # Registrando as métricas do modelo\n",
    "    mlflow.log_metric(\"Estatística F\", modelo_nulo.fvalue)\n",
    "    mlflow.log_metric(\"F p-value\", modelo_nulo.f_pvalue)\n",
    "    mlflow.log_metric(\"R2\", modelo_nulo.rsquared)\n",
    "\n",
    "    # Coletando artefatos do modelo\n",
    "\n",
    "    # Gráfico do comparativo dos dados observados versus fittedvalues\n",
    "    fig, ax = plt.subplots()\n",
    "    ax.scatter(df_tempodist[\"tempo\"], modelo_nulo.fittedvalues)\n",
    "    ax.plot(ax.get_xlim(), ax.get_ylim(), ls=\"--\", color=\"gray\")\n",
    "\n",
    "    # Registro do gráfico como um artefato do experimento\n",
    "    mlflow.log_figure(\n",
    "        fig, \"observado_vs_fitted.png\"\n",
    "    )  # importante definir a extensão\n",
    "\n",
    "    # Obtendo o sumário do modelo em formato de texto\n",
    "    modelo_nulo_summary_texto = modelo_nulo.summary().as_text()\n",
    "\n",
    "    # Registro do sumário como um artefato do experimento\n",
    "    mlflow.log_text(\n",
    "        modelo_nulo_summary_texto, \"summary.txt\"\n",
    "    )  # importante definir a extensão do arquivo\n",
    "\n",
    "    # Carregamento do modelo no experimento\n",
    "    mlflow.statsmodels.log_model(modelo_nulo, \"modelo-nulo\")"
   ]
  },
  {
   "cell_type": "markdown",
   "metadata": {},
   "source": [
    "Necessário registrar o modelo la no ui do mlflow!<br>\n",
    "Em seguida usar o código abaixo como novo método para colocar em staging:"
   ]
  },
  {
   "cell_type": "code",
   "execution_count": 23,
   "metadata": {},
   "outputs": [
    {
     "data": {
      "text/plain": [
       "<ModelVersion: aliases=[], creation_timestamp=1729453567798, current_stage='Staging', description='', last_updated_timestamp=1729453615638, name='tempo-distancia', run_id='28b9363bf63c4b79ab1e02c6c23ff444', run_link='', source='mlflow-artifacts:/666240806145612744/28b9363bf63c4b79ab1e02c6c23ff444/artifacts/modelo-nulo', status='READY', status_message='', tags={}, user_id='', version='3'>"
      ]
     },
     "execution_count": 23,
     "metadata": {},
     "output_type": "execute_result"
    }
   ],
   "source": [
    "# Initialize an MLflow Client\n",
    "client = mlflow.MlflowClient()\n",
    "\n",
    "model_name = \"tempo-distancia\"\n",
    "stage = \"Staging\"\n",
    "\n",
    "client.transition_model_version_stage(\n",
    "    name=model_name, version=3, stage=stage\n",
    ")\n",
    "\n",
    "# The accepted values for <stage> are: Staging|Archived|Production|None."
   ]
  },
  {
   "cell_type": "code",
   "execution_count": 24,
   "metadata": {},
   "outputs": [],
   "source": [
    "# =================== UTILIZANDO MODELOS EM PRODUÇÃO ==========================\n",
    "\n",
    "# Carregando o modelo tempo-distancia em estado staging \n",
    "modelo_nulo_carregado = mlflow.statsmodels.load_model(\n",
    "    model_uri=f\"models:/{model_name}/{stage}\"\n",
    ")"
   ]
  },
  {
   "cell_type": "code",
   "execution_count": 25,
   "metadata": {},
   "outputs": [
    {
     "data": {
      "text/plain": [
       "np.float64(0.0)"
      ]
     },
     "execution_count": 25,
     "metadata": {},
     "output_type": "execute_result"
    }
   ],
   "source": [
    "# Verificando o R2\n",
    "modelo_nulo_carregado.rsquared"
   ]
  },
  {
   "cell_type": "markdown",
   "metadata": {},
   "source": [
    "modelo nulo possui Rsquared zero"
   ]
  },
  {
   "cell_type": "code",
   "execution_count": 26,
   "metadata": {},
   "outputs": [
    {
     "data": {
      "text/plain": [
       "0    30.0\n",
       "1    30.0\n",
       "2    30.0\n",
       "3    30.0\n",
       "4    30.0\n",
       "5    30.0\n",
       "6    30.0\n",
       "7    30.0\n",
       "8    30.0\n",
       "9    30.0\n",
       "dtype: float64"
      ]
     },
     "execution_count": 26,
     "metadata": {},
     "output_type": "execute_result"
    }
   ],
   "source": [
    "# Verificando os fittedvalues\n",
    "modelo_nulo_carregado.fittedvalues"
   ]
  },
  {
   "cell_type": "markdown",
   "metadata": {},
   "source": [
    "(Apenas o valor de intercepto)"
   ]
  },
  {
   "cell_type": "code",
   "execution_count": 29,
   "metadata": {},
   "outputs": [
    {
     "name": "stderr",
     "output_type": "stream",
     "text": [
      "2024/10/20 17:01:15 WARNING mlflow.models.model: Model logged without a signature and input example. Please set `input_example` parameter when logging the model to auto infer the model signature.\n",
      "2024/10/20 17:01:15 INFO mlflow.tracking._tracking_service.client: 🏃 View run Modelo Final at: http://localhost:5000/#/experiments/666240806145612744/runs/e5c2a8f85cd542ed8e9f4507f0ca9a83.\n",
      "2024/10/20 17:01:15 INFO mlflow.tracking._tracking_service.client: 🧪 View experiment at: http://localhost:5000/#/experiments/666240806145612744.\n"
     ]
    },
    {
     "data": {
      "image/png": "[encoded data removed]",
      "text/plain": [
       "<Figure size 640x480 with 1 Axes>"
      ]
     },
     "metadata": {},
     "output_type": "display_data"
    }
   ],
   "source": [
    "# ============================ MODELO FINAL ===================================\n",
    "\n",
    "# Modelo proposto: Modelo final\n",
    "\n",
    "# Coleta dos metadados do dataset para o padrão do mlflow\n",
    "dataset = mlflow.data.from_pandas(df_tempodist)\n",
    "# Fórmula que serão utilizada no modelo\n",
    "formula = \"tempo ~ distancia\"\n",
    "\n",
    "# %%\n",
    "# Criando uma nova run no mlflow\n",
    "with mlflow.start_run(run_name=\"Modelo Final\"):\n",
    "    # =============================== INPUTS ==================================\n",
    "\n",
    "    # Coleta dos metadados do dataset. O contexto pode ser utilizado para adi-\n",
    "    # cionar mais uma informação de contexto do dataset, por exemplo: se ele é\n",
    "    # um dataset de treino ou teste\n",
    "    mlflow.log_input(dataset, context=\"training\")\n",
    "\n",
    "    # Parâmetros de entrada para serem coletados\n",
    "    mlflow.log_param(\"Fórmula\", formula)\n",
    "\n",
    "    # ============================= MODELAGEM =================================\n",
    "\n",
    "    # Treinamento do modelo\n",
    "    modelo_final = sm.OLS.from_formula(\n",
    "        formula=formula, data=df_tempodist\n",
    "    ).fit()\n",
    "\n",
    "    # ============================= OUTPUTS ===================================\n",
    "\n",
    "    # Registrando as métricas do modelo\n",
    "    mlflow.log_metric(\"Estatística F\", modelo_final.fvalue)\n",
    "    mlflow.log_metric(\"F p-value\", modelo_final.f_pvalue)\n",
    "    mlflow.log_metric(\"R2\", modelo_final.rsquared)\n",
    "\n",
    "    # Coletando artefatos do modelo\n",
    "\n",
    "    # Gráfico do comparativo dos dados observados versus fittedvalues\n",
    "    fig, ax = plt.subplots()\n",
    "    ax.scatter(df_tempodist[\"tempo\"], modelo_final.fittedvalues)\n",
    "    ax.plot(ax.get_xlim(), ax.get_ylim(), ls=\"--\", color=\"gray\")\n",
    "\n",
    "    # Registro do gráfico como um artefato do experimento\n",
    "    mlflow.log_figure(\n",
    "        fig, \"observado_vs_fitted.png\"\n",
    "    )  # importante definir a extensão\n",
    "\n",
    "    # Obtendo o sumário do modelo em formato de texto\n",
    "    modelo_final_summary_texto = modelo_final.summary().as_text()\n",
    "\n",
    "    # Registro do sumário como um artefato do experimento\n",
    "    mlflow.log_text(\n",
    "        modelo_final_summary_texto, \"summary.txt\"\n",
    "    )  # importante definir a extensão do arquivo\n",
    "\n",
    "    # Carregamento do modelo no experimento\n",
    "    mlflow.statsmodels.log_model(modelo_final, \"modelo-final\")"
   ]
  },
  {
   "cell_type": "code",
   "execution_count": 28,
   "metadata": {},
   "outputs": [
    {
     "data": {
      "text/plain": [
       "<ModelVersion: aliases=[], creation_timestamp=1729453888054, current_stage='Staging', description='', last_updated_timestamp=1729453927710, name='tempo-distancia', run_id='ce8ae1a818404e6eb6e79b0391ca6d4a', run_link='', source='mlflow-artifacts:/666240806145612744/ce8ae1a818404e6eb6e79b0391ca6d4a/artifacts/modelo-final', status='READY', status_message='', tags={}, user_id='', version='4'>"
      ]
     },
     "execution_count": 28,
     "metadata": {},
     "output_type": "execute_result"
    }
   ],
   "source": [
    "# Registrando uma nova versão do modelo tempo-dist (fazer isso no ui)\n",
    "# Agora o modelo tempo-dist terá duas versões, o modelo nulo na versão 1 e o\n",
    "# modelo final na versão 2.\n",
    "\n",
    "# Initialize an MLflow Client\n",
    "client = mlflow.MlflowClient()\n",
    "\n",
    "model_name = \"tempo-distancia\"\n",
    "stage = \"Staging\"\n",
    "\n",
    "client.transition_model_version_stage(\n",
    "    name=model_name, version=4, stage=stage\n",
    ")\n",
    "\n",
    "# The accepted values for <stage> are: Staging|Archived|Production|None.\n",
    "\n",
    "# Após promover o modelo final para a fase de 'staging', o modelo nulo automa-\n",
    "# ticamente o modelo anterior será e o novo modelo ficará registrado no estágio\n",
    "# de 'archived' -->> ACONTECE SOMENTE NO 'OLD MODEL REGISTRY UI' (desligar bo-\n",
    "# tão 'New model registry UI')"
   ]
  },
  {
   "cell_type": "code",
   "execution_count": 30,
   "metadata": {},
   "outputs": [],
   "source": [
    "# Carregando novamente o modelo tempo-dist na fase 'staging'\n",
    "modelo_fase_staging = mlflow.statsmodels.load_model(\n",
    "    model_uri=f\"models:/{model_name}/{stage}\"\n",
    ")"
   ]
  },
  {
   "cell_type": "code",
   "execution_count": 31,
   "metadata": {},
   "outputs": [
    {
     "data": {
      "text/plain": [
       "np.float64(0.8194256756756757)"
      ]
     },
     "execution_count": 31,
     "metadata": {},
     "output_type": "execute_result"
    }
   ],
   "source": [
    "# Verificando o R2\n",
    "modelo_fase_staging.rsquared"
   ]
  },
  {
   "cell_type": "code",
   "execution_count": 32,
   "metadata": {},
   "outputs": [
    {
     "data": {
      "text/plain": [
       "0    17.229730\n",
       "1    14.391892\n",
       "2    27.162162\n",
       "3    34.256757\n",
       "4    41.351351\n",
       "5    21.486486\n",
       "6    12.972973\n",
       "7    51.283784\n",
       "8    45.608108\n",
       "9    34.256757\n",
       "dtype: float64"
      ]
     },
     "execution_count": 32,
     "metadata": {},
     "output_type": "execute_result"
    }
   ],
   "source": [
    "# Verificando os fittedvalues\n",
    "modelo_fase_staging.fittedvalues"
   ]
  },
  {
   "cell_type": "code",
   "execution_count": 33,
   "metadata": {},
   "outputs": [
    {
     "name": "stdout",
     "output_type": "stream",
     "text": [
      "0    34.256757\n",
      "dtype: float64\n"
     ]
    }
   ],
   "source": [
    "# Realizando um predict\n",
    "predict_novo_modelo_staging = modelo_fase_staging.predict(\n",
    "    pd.DataFrame({\"distancia\": [20]})\n",
    ")\n",
    "\n",
    "# Verificando o predict\n",
    "print(predict_novo_modelo_staging)"
   ]
  },
  {
   "cell_type": "markdown",
   "metadata": {},
   "source": [
    "Ir no mlflow e colocar o modelo em 'staging' para 'production' antes de seguir "
   ]
  },
  {
   "cell_type": "code",
   "execution_count": 34,
   "metadata": {},
   "outputs": [],
   "source": [
    "# ==================== GESTÃO DO CICLO DE VIDA DOS MODELOS ====================\n",
    "\n",
    "# Ciclo esperado: Adatação -> Produção -> Arquivamento\n",
    "\n",
    "# Promovendo o modelo final de fase de adaptação para a fase de produção\n",
    "# Agora a versão 2 do modelo (modelo final) está em produção\n",
    "\n",
    "stage = 'production'\n",
    "\n",
    "# Carregando modelo tempo-dist em produção (production)\n",
    "modelo_em_producao = mlflow.statsmodels.load_model(\n",
    "    model_uri=f\"models:/{model_name}/{stage}\"\n",
    ")"
   ]
  },
  {
   "cell_type": "markdown",
   "metadata": {},
   "source": [
    "### APIs"
   ]
  },
  {
   "cell_type": "code",
   "execution_count": 41,
   "metadata": {},
   "outputs": [
    {
     "data": {
      "text/plain": [
       "<Response [200]>"
      ]
     },
     "execution_count": 41,
     "metadata": {},
     "output_type": "execute_result"
    }
   ],
   "source": [
    "# ===================== ENTENDENDO E CONSUMINDO APIS ==========================\n",
    "\n",
    "# Alguns métodos HTTP bastante utilizados em requisições de APIs:\n",
    "\n",
    "# GET: recupera dados do servidor\n",
    "# POST: envia dados ao servidor para processamento.\n",
    "\n",
    "# Usando o GET\n",
    "fatos_cachorros = requests.get(\n",
    "    \"https://dogapi.dog/api/v2/facts\", # API pública de fatos sobre cães\n",
    "    headers={\"Content-Type\": \"application/json\"},\n",
    ")\n",
    "fatos_cachorros"
   ]
  },
  {
   "cell_type": "code",
   "execution_count": 36,
   "metadata": {},
   "outputs": [],
   "source": [
    "# Em uma requisição HTTP, o servidor pode retornar diferentes tipos de respostas, representadas por **códigos de status** que indicam o resultado da solicitação. Esses códigos são divididos em cinco categorias principais:\n",
    "\n",
    "# ### 1. **Respostas de Informação (100-199)**\n",
    "# Esses códigos indicam que a requisição foi recebida e está em processamento:\n",
    "\n",
    "# - **100 Continue**: O servidor recebeu a parte inicial da solicitação e o cliente deve continuar enviando o restante.\n",
    "# - **101 Switching Protocols**: O servidor aceita mudar o protocolo conforme solicitado pelo cliente.\n",
    "\n",
    "# ### 2. **Respostas de Sucesso (200-299)**\n",
    "# Esses códigos indicam que a requisição foi processada com sucesso:\n",
    "\n",
    "# - **200 OK**: A requisição foi bem-sucedida, e o servidor retornou o recurso solicitado.\n",
    "# - **201 Created**: A requisição foi bem-sucedida e um novo recurso foi criado.\n",
    "# - **202 Accepted**: A solicitação foi aceita para processamento, mas ainda não foi concluída.\n",
    "# - **204 No Content**: A solicitação foi bem-sucedida, mas não há corpo de resposta a ser enviado.\n",
    "\n",
    "# ### 3. **Redirecionamento (300-399)**\n",
    "# Esses códigos indicam que o cliente precisa realizar mais ações para completar a solicitação:\n",
    "\n",
    "# - **301 Moved Permanently**: O recurso foi movido permanentemente para um novo URL.\n",
    "# - **302 Found**: O recurso foi temporariamente movido para outro URL.\n",
    "# - **304 Not Modified**: O conteúdo não foi alterado desde a última solicitação, portanto, o cliente pode usar a versão em cache.\n",
    "\n",
    "# ### 4. **Erros do Cliente (400-499)**\n",
    "# Esses códigos indicam que houve um erro por parte do cliente ao fazer a requisição:\n",
    "\n",
    "# - **400 Bad Request**: A requisição está malformada ou contém dados inválidos.\n",
    "# - **401 Unauthorized**: A solicitação requer autenticação.\n",
    "# - **403 Forbidden**: O servidor entendeu a solicitação, mas está recusando o acesso.\n",
    "# - **404 Not Found**: O recurso solicitado não foi encontrado no servidor.\n",
    "# - **429 Too Many Requests**: O cliente enviou muitas requisições em um curto período de tempo.\n",
    "\n",
    "# ### 5. **Erros do Servidor (500-599)**\n",
    "# Esses códigos indicam que o servidor encontrou um erro ao tentar processar a requisição:\n",
    "\n",
    "# - **500 Internal Server Error**: Ocorreu um erro genérico no servidor.\n",
    "# - **502 Bad Gateway**: O servidor recebeu uma resposta inválida de outro servidor ao tentar cumprir a solicitação.\n",
    "# - **503 Service Unavailable**: O servidor está temporariamente indisponível, geralmente devido a manutenção ou sobrecarga.\n",
    "# - **504 Gateway Timeout**: O servidor agiu como um gateway ou proxy e não recebeu uma resposta a tempo.\n",
    "\n",
    "# Esses são os principais tipos de respostas em requisições HTTP, cada uma servindo para informar o cliente sobre o estado da solicitação e, se necessário, orientar sobre as próximas ações."
   ]
  },
  {
   "cell_type": "code",
   "execution_count": 42,
   "metadata": {},
   "outputs": [
    {
     "data": {
      "text/plain": [
       "{'data': [{'id': '2cd15e5a-1013-4f23-abd5-45cbdceba59c',\n",
       "   'type': 'fact',\n",
       "   'attributes': {'body': 'Female dogs carry puppies for about nine weeks before birth.'}}]}"
      ]
     },
     "execution_count": 42,
     "metadata": {},
     "output_type": "execute_result"
    }
   ],
   "source": [
    "# Coletando a resposta da requisição em formaton JSON\n",
    "fatos_cachorros = fatos_cachorros.json()\n",
    "fatos_cachorros"
   ]
  },
  {
   "cell_type": "code",
   "execution_count": 40,
   "metadata": {},
   "outputs": [
    {
     "name": "stdout",
     "output_type": "stream",
     "text": [
      "The breed Lundehune has 6 toes and can close its ears.\n"
     ]
    }
   ],
   "source": [
    "# Acessando os campos e valores da resposta da API\n",
    "print(fatos_cachorros[\"data\"][0][\"attributes\"][\"body\"])"
   ]
  },
  {
   "cell_type": "code",
   "execution_count": null,
   "metadata": {},
   "outputs": [],
   "source": [
    "# =========== SERVINDO MODELOS EM PRODUÇÃO USANDO A API DO MLFLOW =============\n",
    "\n",
    "# Acesse um novo terminal e ative o ambiente virtual que foi criado. Não feche\n",
    "# o terminal que está rodando o Mlflow.\n",
    "# Verifique o Passo 2 do \"Instruções Aula - Big Data e Deployment de Modelos\"\n",
    "# para mais dúvidas.\n",
    "\n",
    "# Para acessar um novo ambiente virtual\n",
    "# Digite no terminal (no mesmo diretório onde a pasta venv se encontra):\n",
    "# =============================================================================\n",
    "# cd <DIRETORIO_ONDE_O_VENV_FOI_CRIADO>\n",
    "# Windows: .\\venv\\Scripts\\activate\n",
    "# Linux/macOS: source /venv/bin/activate\n",
    "# O nome (venv) deverá aparecer no início do campo do terminal\n",
    "\n",
    "# Adicione a variável de ambiente para o rastreamento de onde está o Mlflow\n",
    "# Digite no terminal:\n",
    "# =============================================================================\n",
    "# Linux/macOS: EXPORT MLFLOW_TRACKING_URI=http://localhost:5000\n",
    "# Windows: SET MLFLOW_TRACKING_URI=http://localhost:5000\n",
    "# =============================================================================\n",
    "\n",
    "# Sirva o modelo tempo-distancia em fase de produção para ser acessado na\n",
    "# porta 5200 via API do Mlflow\n",
    "# Digite no terminal:\n",
    "# =============================================================================\n",
    "# $env:MLFLOW_TRACKING_URI=\"http://localhost:5000\"\n",
    "# mlflow models serve -m models:/tempo-distancia/production -p 5200 --no-conda\n",
    "# ============================================================================="
   ]
  },
  {
   "cell_type": "code",
   "execution_count": 43,
   "metadata": {},
   "outputs": [
    {
     "data": {
      "text/html": [
       "<div>\n",
       "<style scoped>\n",
       "    .dataframe tbody tr th:only-of-type {\n",
       "        vertical-align: middle;\n",
       "    }\n",
       "\n",
       "    .dataframe tbody tr th {\n",
       "        vertical-align: top;\n",
       "    }\n",
       "\n",
       "    .dataframe thead th {\n",
       "        text-align: right;\n",
       "    }\n",
       "</style>\n",
       "<table border=\"1\" class=\"dataframe\">\n",
       "  <thead>\n",
       "    <tr style=\"text-align: right;\">\n",
       "      <th></th>\n",
       "      <th>distancia</th>\n",
       "    </tr>\n",
       "  </thead>\n",
       "  <tbody>\n",
       "    <tr>\n",
       "      <th>0</th>\n",
       "      <td>20</td>\n",
       "    </tr>\n",
       "  </tbody>\n",
       "</table>\n",
       "</div>"
      ],
      "text/plain": [
       "   distancia\n",
       "0         20"
      ]
     },
     "execution_count": 43,
     "metadata": {},
     "output_type": "execute_result"
    }
   ],
   "source": [
    "# Criando um dataframe para realizar um predict no nosso modelo em produção via\n",
    "# API do Mlflow\n",
    "df_novos_dados = pd.DataFrame({\"distancia\": [20]})\n",
    "df_novos_dados"
   ]
  },
  {
   "cell_type": "code",
   "execution_count": 45,
   "metadata": {},
   "outputs": [
    {
     "data": {
      "text/plain": [
       "'{\"dataframe_records\": [{\"distancia\": 20}]}'"
      ]
     },
     "execution_count": 45,
     "metadata": {},
     "output_type": "execute_result"
    }
   ],
   "source": [
    "# Transformando os dados para o formato requisitação pela documentação da API\n",
    "#  do mlflow\n",
    "dados_transformados = json.dumps(\n",
    "    {\"dataframe_records\": df_novos_dados.to_dict(orient=\"records\")}\n",
    ")\n",
    "dados_transformados"
   ]
  },
  {
   "cell_type": "code",
   "execution_count": 47,
   "metadata": {},
   "outputs": [
    {
     "data": {
      "text/plain": [
       "'{\"predictions\": [{\"0\": 34.256756756756744}]}'"
      ]
     },
     "execution_count": 47,
     "metadata": {},
     "output_type": "execute_result"
    }
   ],
   "source": [
    "# CONSUMIR DO MODELO SERVIDO\n",
    "# Realizando a requisição ao modelo via API do Mlflow e coletando a resposta\n",
    "response = requests.post(\n",
    "    #url=\"http://localhost:5200/invocations\",\n",
    "    url=\"http://127.0.0.1:5200/invocations\",\n",
    "    data=dados_transformados,\n",
    "    headers={\"Content-Type\": \"application/json\"},\n",
    ")\n",
    "\n",
    "# Verificando o retorno em formato de texto\n",
    "response.text"
   ]
  },
  {
   "cell_type": "code",
   "execution_count": 49,
   "metadata": {},
   "outputs": [
    {
     "name": "stdout",
     "output_type": "stream",
     "text": [
      "34.256756756756744\n"
     ]
    }
   ],
   "source": [
    "# Verificando o retorno em formato JSON, que é compatível com o formato dicio-\n",
    "# nário Python\n",
    "predict = response.json()\n",
    "\n",
    "# Acessando o valor do predict\n",
    "print(predict[\"predictions\"][0][\"0\"])"
   ]
  },
  {
   "cell_type": "markdown",
   "metadata": {},
   "source": [
    "### deployment de um modelo HLM2"
   ]
  },
  {
   "cell_type": "code",
   "execution_count": 50,
   "metadata": {},
   "outputs": [
    {
     "data": {
      "text/html": [
       "<div>\n",
       "<style scoped>\n",
       "    .dataframe tbody tr th:only-of-type {\n",
       "        vertical-align: middle;\n",
       "    }\n",
       "\n",
       "    .dataframe tbody tr th {\n",
       "        vertical-align: top;\n",
       "    }\n",
       "\n",
       "    .dataframe thead th {\n",
       "        text-align: right;\n",
       "    }\n",
       "</style>\n",
       "<table border=\"1\" class=\"dataframe\">\n",
       "  <thead>\n",
       "    <tr style=\"text-align: right;\">\n",
       "      <th></th>\n",
       "      <th>estudante</th>\n",
       "      <th>escola</th>\n",
       "      <th>desempenho</th>\n",
       "      <th>horas</th>\n",
       "      <th>texp</th>\n",
       "    </tr>\n",
       "  </thead>\n",
       "  <tbody>\n",
       "    <tr>\n",
       "      <th>0</th>\n",
       "      <td>1</td>\n",
       "      <td>1</td>\n",
       "      <td>25.0</td>\n",
       "      <td>11</td>\n",
       "      <td>3.6</td>\n",
       "    </tr>\n",
       "    <tr>\n",
       "      <th>1</th>\n",
       "      <td>2</td>\n",
       "      <td>1</td>\n",
       "      <td>52.0</td>\n",
       "      <td>23</td>\n",
       "      <td>3.6</td>\n",
       "    </tr>\n",
       "    <tr>\n",
       "      <th>2</th>\n",
       "      <td>3</td>\n",
       "      <td>1</td>\n",
       "      <td>52.0</td>\n",
       "      <td>25</td>\n",
       "      <td>3.6</td>\n",
       "    </tr>\n",
       "    <tr>\n",
       "      <th>3</th>\n",
       "      <td>4</td>\n",
       "      <td>1</td>\n",
       "      <td>30.0</td>\n",
       "      <td>14</td>\n",
       "      <td>3.6</td>\n",
       "    </tr>\n",
       "    <tr>\n",
       "      <th>4</th>\n",
       "      <td>5</td>\n",
       "      <td>1</td>\n",
       "      <td>51.0</td>\n",
       "      <td>24</td>\n",
       "      <td>3.6</td>\n",
       "    </tr>\n",
       "    <tr>\n",
       "      <th>...</th>\n",
       "      <td>...</td>\n",
       "      <td>...</td>\n",
       "      <td>...</td>\n",
       "      <td>...</td>\n",
       "      <td>...</td>\n",
       "    </tr>\n",
       "    <tr>\n",
       "      <th>353</th>\n",
       "      <td>354</td>\n",
       "      <td>10</td>\n",
       "      <td>46.5</td>\n",
       "      <td>28</td>\n",
       "      <td>3.9</td>\n",
       "    </tr>\n",
       "    <tr>\n",
       "      <th>354</th>\n",
       "      <td>355</td>\n",
       "      <td>10</td>\n",
       "      <td>21.0</td>\n",
       "      <td>9</td>\n",
       "      <td>3.9</td>\n",
       "    </tr>\n",
       "    <tr>\n",
       "      <th>355</th>\n",
       "      <td>356</td>\n",
       "      <td>10</td>\n",
       "      <td>42.0</td>\n",
       "      <td>27</td>\n",
       "      <td>3.9</td>\n",
       "    </tr>\n",
       "    <tr>\n",
       "      <th>356</th>\n",
       "      <td>357</td>\n",
       "      <td>10</td>\n",
       "      <td>14.0</td>\n",
       "      <td>7</td>\n",
       "      <td>3.9</td>\n",
       "    </tr>\n",
       "    <tr>\n",
       "      <th>357</th>\n",
       "      <td>358</td>\n",
       "      <td>10</td>\n",
       "      <td>41.5</td>\n",
       "      <td>24</td>\n",
       "      <td>3.9</td>\n",
       "    </tr>\n",
       "  </tbody>\n",
       "</table>\n",
       "<p>358 rows × 5 columns</p>\n",
       "</div>"
      ],
      "text/plain": [
       "     estudante  escola  desempenho  horas  texp\n",
       "0            1       1        25.0     11   3.6\n",
       "1            2       1        52.0     23   3.6\n",
       "2            3       1        52.0     25   3.6\n",
       "3            4       1        30.0     14   3.6\n",
       "4            5       1        51.0     24   3.6\n",
       "..         ...     ...         ...    ...   ...\n",
       "353        354      10        46.5     28   3.9\n",
       "354        355      10        21.0      9   3.9\n",
       "355        356      10        42.0     27   3.9\n",
       "356        357      10        14.0      7   3.9\n",
       "357        358      10        41.5     24   3.9\n",
       "\n",
       "[358 rows x 5 columns]"
      ]
     },
     "execution_count": 50,
     "metadata": {},
     "output_type": "execute_result"
    }
   ],
   "source": [
    "# =================== DEPLOYMENT DE UM MODELO HLM2 ============================\n",
    "\n",
    "# Carregando o dataset\n",
    "df_estudante_escola = pd.read_csv(\"./data/estudante_escola.csv\")\n",
    "\n",
    "# Relembrando o dataset df_estudante_escola\n",
    "df_estudante_escola"
   ]
  },
  {
   "cell_type": "code",
   "execution_count": 51,
   "metadata": {},
   "outputs": [
    {
     "name": "stdout",
     "output_type": "stream",
     "text": [
      "<class 'pandas.core.frame.DataFrame'>\n",
      "RangeIndex: 358 entries, 0 to 357\n",
      "Data columns (total 5 columns):\n",
      " #   Column      Non-Null Count  Dtype  \n",
      "---  ------      --------------  -----  \n",
      " 0   estudante   358 non-null    int64  \n",
      " 1   escola      358 non-null    int64  \n",
      " 2   desempenho  358 non-null    float64\n",
      " 3   horas       358 non-null    int64  \n",
      " 4   texp        358 non-null    float64\n",
      "dtypes: float64(2), int64(3)\n",
      "memory usage: 14.1 KB\n"
     ]
    }
   ],
   "source": [
    "# Verificando as informações do dataset e possíveis valores nulos\n",
    "df_estudante_escola.info()"
   ]
  },
  {
   "cell_type": "code",
   "execution_count": 52,
   "metadata": {},
   "outputs": [
    {
     "data": {
      "text/html": [
       "<div>\n",
       "<style scoped>\n",
       "    .dataframe tbody tr th:only-of-type {\n",
       "        vertical-align: middle;\n",
       "    }\n",
       "\n",
       "    .dataframe tbody tr th {\n",
       "        vertical-align: top;\n",
       "    }\n",
       "\n",
       "    .dataframe thead tr th {\n",
       "        text-align: left;\n",
       "    }\n",
       "\n",
       "    .dataframe thead tr:last-of-type th {\n",
       "        text-align: right;\n",
       "    }\n",
       "</style>\n",
       "<table border=\"1\" class=\"dataframe\">\n",
       "  <thead>\n",
       "    <tr>\n",
       "      <th></th>\n",
       "      <th colspan=\"8\" halign=\"left\">desempenho</th>\n",
       "    </tr>\n",
       "    <tr>\n",
       "      <th></th>\n",
       "      <th>count</th>\n",
       "      <th>mean</th>\n",
       "      <th>std</th>\n",
       "      <th>min</th>\n",
       "      <th>25%</th>\n",
       "      <th>50%</th>\n",
       "      <th>75%</th>\n",
       "      <th>max</th>\n",
       "    </tr>\n",
       "    <tr>\n",
       "      <th>escola</th>\n",
       "      <th></th>\n",
       "      <th></th>\n",
       "      <th></th>\n",
       "      <th></th>\n",
       "      <th></th>\n",
       "      <th></th>\n",
       "      <th></th>\n",
       "      <th></th>\n",
       "    </tr>\n",
       "  </thead>\n",
       "  <tbody>\n",
       "    <tr>\n",
       "      <th>1</th>\n",
       "      <td>47.0</td>\n",
       "      <td>36.765957</td>\n",
       "      <td>13.398917</td>\n",
       "      <td>15.0</td>\n",
       "      <td>25.500</td>\n",
       "      <td>33.00</td>\n",
       "      <td>48.000</td>\n",
       "      <td>65.0</td>\n",
       "    </tr>\n",
       "    <tr>\n",
       "      <th>2</th>\n",
       "      <td>25.0</td>\n",
       "      <td>21.400000</td>\n",
       "      <td>6.204837</td>\n",
       "      <td>11.0</td>\n",
       "      <td>17.000</td>\n",
       "      <td>22.00</td>\n",
       "      <td>25.000</td>\n",
       "      <td>35.0</td>\n",
       "    </tr>\n",
       "    <tr>\n",
       "      <th>3</th>\n",
       "      <td>48.0</td>\n",
       "      <td>67.125000</td>\n",
       "      <td>14.203124</td>\n",
       "      <td>37.0</td>\n",
       "      <td>59.000</td>\n",
       "      <td>66.00</td>\n",
       "      <td>77.250</td>\n",
       "      <td>100.0</td>\n",
       "    </tr>\n",
       "    <tr>\n",
       "      <th>4</th>\n",
       "      <td>20.0</td>\n",
       "      <td>55.325000</td>\n",
       "      <td>13.323184</td>\n",
       "      <td>25.0</td>\n",
       "      <td>48.250</td>\n",
       "      <td>55.25</td>\n",
       "      <td>66.375</td>\n",
       "      <td>77.5</td>\n",
       "    </tr>\n",
       "    <tr>\n",
       "      <th>5</th>\n",
       "      <td>48.0</td>\n",
       "      <td>19.270833</td>\n",
       "      <td>5.642693</td>\n",
       "      <td>6.5</td>\n",
       "      <td>15.500</td>\n",
       "      <td>19.00</td>\n",
       "      <td>22.500</td>\n",
       "      <td>32.5</td>\n",
       "    </tr>\n",
       "    <tr>\n",
       "      <th>6</th>\n",
       "      <td>30.0</td>\n",
       "      <td>33.966667</td>\n",
       "      <td>7.921961</td>\n",
       "      <td>18.5</td>\n",
       "      <td>29.125</td>\n",
       "      <td>33.25</td>\n",
       "      <td>39.875</td>\n",
       "      <td>49.0</td>\n",
       "    </tr>\n",
       "    <tr>\n",
       "      <th>7</th>\n",
       "      <td>28.0</td>\n",
       "      <td>57.532143</td>\n",
       "      <td>26.112904</td>\n",
       "      <td>15.3</td>\n",
       "      <td>39.750</td>\n",
       "      <td>55.30</td>\n",
       "      <td>77.900</td>\n",
       "      <td>100.0</td>\n",
       "    </tr>\n",
       "    <tr>\n",
       "      <th>8</th>\n",
       "      <td>35.0</td>\n",
       "      <td>75.428571</td>\n",
       "      <td>9.506300</td>\n",
       "      <td>52.0</td>\n",
       "      <td>69.500</td>\n",
       "      <td>77.00</td>\n",
       "      <td>82.500</td>\n",
       "      <td>93.0</td>\n",
       "    </tr>\n",
       "    <tr>\n",
       "      <th>9</th>\n",
       "      <td>44.0</td>\n",
       "      <td>18.556818</td>\n",
       "      <td>3.360537</td>\n",
       "      <td>10.5</td>\n",
       "      <td>16.250</td>\n",
       "      <td>18.50</td>\n",
       "      <td>21.000</td>\n",
       "      <td>25.0</td>\n",
       "    </tr>\n",
       "    <tr>\n",
       "      <th>10</th>\n",
       "      <td>33.0</td>\n",
       "      <td>38.590909</td>\n",
       "      <td>8.690381</td>\n",
       "      <td>14.0</td>\n",
       "      <td>34.500</td>\n",
       "      <td>41.50</td>\n",
       "      <td>44.000</td>\n",
       "      <td>50.5</td>\n",
       "    </tr>\n",
       "  </tbody>\n",
       "</table>\n",
       "</div>"
      ],
      "text/plain": [
       "       desempenho                                                          \n",
       "            count       mean        std   min     25%    50%     75%    max\n",
       "escola                                                                     \n",
       "1            47.0  36.765957  13.398917  15.0  25.500  33.00  48.000   65.0\n",
       "2            25.0  21.400000   6.204837  11.0  17.000  22.00  25.000   35.0\n",
       "3            48.0  67.125000  14.203124  37.0  59.000  66.00  77.250  100.0\n",
       "4            20.0  55.325000  13.323184  25.0  48.250  55.25  66.375   77.5\n",
       "5            48.0  19.270833   5.642693   6.5  15.500  19.00  22.500   32.5\n",
       "6            30.0  33.966667   7.921961  18.5  29.125  33.25  39.875   49.0\n",
       "7            28.0  57.532143  26.112904  15.3  39.750  55.30  77.900  100.0\n",
       "8            35.0  75.428571   9.506300  52.0  69.500  77.00  82.500   93.0\n",
       "9            44.0  18.556818   3.360537  10.5  16.250  18.50  21.000   25.0\n",
       "10           33.0  38.590909   8.690381  14.0  34.500  41.50  44.000   50.5"
      ]
     },
     "execution_count": 52,
     "metadata": {},
     "output_type": "execute_result"
    }
   ],
   "source": [
    "# Verificando as variáveis descritivas das colunas\n",
    "df_estudante_escola[[\"escola\", \"desempenho\"]].groupby(\n",
    "    by=[\"escola\"]\n",
    ").describe()"
   ]
  },
  {
   "cell_type": "code",
   "execution_count": 53,
   "metadata": {},
   "outputs": [
    {
     "name": "stderr",
     "output_type": "stream",
     "text": [
      "2024/10/20 17:44:57 INFO mlflow.tracking.fluent: Experiment with name 'Desempenho de estudantes' does not exist. Creating a new experiment.\n"
     ]
    },
    {
     "data": {
      "text/plain": [
       "<Experiment: artifact_location='mlflow-artifacts:/479809308707295081', creation_time=1729457097597, experiment_id='479809308707295081', last_update_time=1729457097597, lifecycle_stage='active', name='Desempenho de estudantes', tags={}>"
      ]
     },
     "execution_count": 53,
     "metadata": {},
     "output_type": "execute_result"
    }
   ],
   "source": [
    "# Criando o experimento para receber os modelos\n",
    "mlflow.set_experiment(experiment_name=\"Desempenho de estudantes\")"
   ]
  },
  {
   "cell_type": "code",
   "execution_count": 55,
   "metadata": {},
   "outputs": [
    {
     "name": "stderr",
     "output_type": "stream",
     "text": [
      "2024/10/20 17:45:31 WARNING mlflow.utils.autologging_utils: MLflow statsmodels autologging is known to be compatible with 0.11.1 <= statsmodels <= 0.14.3, but the installed version is 0.14.4. If you encounter errors during autologging, try upgrading / downgrading statsmodels to a compatible version, or try upgrading MLflow.\n"
     ]
    }
   ],
   "source": [
    "# ====================== PRIMEIRO MODELO DO EXPERIMENTO =======================\n",
    "\n",
    "# Modelo proposto: Modelo nulo OLS\n",
    "\n",
    "# Coleta dos metadados do dataset para o padrão do mlflow\n",
    "dataset = mlflow.data.from_pandas(df_estudante_escola)\n",
    "# Fórmula que serão utilizada no modelo\n",
    "formula = \"desempenho ~ 1\"\n",
    "\n",
    "# Permite que o Mlflow colete os logs (parámetros, métricas e artefatos) auto-\n",
    "# maticamente\n",
    "mlflow.statsmodels.autolog(\n",
    "    log_models=True,  # registro do modelo\n",
    "    #log_data=True,  # registro dos metadados do dataset\n",
    "    disable=False,  # habilitar o autolog\n",
    "    registered_model_name=None,  # adicionar um nome default para o modelo\n",
    ")\n",
    "\n",
    "# Para desabilitar o autolog\n",
    "# mlflow.statsmodels.autolog(disable=True)"
   ]
  },
  {
   "cell_type": "code",
   "execution_count": 56,
   "metadata": {},
   "outputs": [
    {
     "name": "stderr",
     "output_type": "stream",
     "text": [
      "2024/10/20 17:46:47 WARNING mlflow.models.model: Model logged without a signature and input example. Please set `input_example` parameter when logging the model to auto infer the model signature.\n",
      "2024/10/20 17:46:47 INFO mlflow.tracking._tracking_service.client: 🏃 View run Modelo Nulo at: http://localhost:5000/#/experiments/479809308707295081/runs/6a699a8708f74dad8097d04ee9d9b458.\n",
      "2024/10/20 17:46:47 INFO mlflow.tracking._tracking_service.client: 🧪 View experiment at: http://localhost:5000/#/experiments/479809308707295081.\n"
     ]
    }
   ],
   "source": [
    "# Criando a primeira run desse experimento no mlflow\n",
    "with mlflow.start_run(run_name=\"Modelo Nulo\"):\n",
    "\n",
    "    # ==================== INPUTS =============================================\n",
    "\n",
    "    # Parâmetros de entrada e os metadados do dataset são coletadas de forma\n",
    "    # automática por conta do comando mlflow.statsmodels.autolog()\n",
    "\n",
    "    # ============================= MODELAGEM =================================\n",
    "\n",
    "    # Treinamento do modelo\n",
    "    modelo_estudante_escola_nulo = sm.OLS.from_formula(\n",
    "        formula=formula, data=df_estudante_escola\n",
    "    ).fit()\n",
    "\n",
    "    # ==================== OUTPUTS ============================================\n",
    "\n",
    "    # Métricas e artefatos do modelo são coletadas de forma automática por con-\n",
    "    # ta do comando mlflow.statsmodels.autolog()"
   ]
  },
  {
   "cell_type": "code",
   "execution_count": 57,
   "metadata": {},
   "outputs": [
    {
     "name": "stderr",
     "output_type": "stream",
     "text": [
      "2024/10/20 17:47:44 WARNING mlflow.models.model: Model logged without a signature and input example. Please set `input_example` parameter when logging the model to auto infer the model signature.\n",
      "2024/10/20 17:47:44 INFO mlflow.tracking._tracking_service.client: 🏃 View run Modelo Nulo HLM2 at: http://localhost:5000/#/experiments/479809308707295081/runs/3db72120c5fc4bbd8649282c2f72f91d.\n",
      "2024/10/20 17:47:44 INFO mlflow.tracking._tracking_service.client: 🧪 View experiment at: http://localhost:5000/#/experiments/479809308707295081.\n"
     ]
    }
   ],
   "source": [
    "# ====================== SEGUNDO MODELO DO EXPERIMENTO ========================\n",
    "\n",
    "# Modelo proposto: Modelo nulo HLM2\n",
    "\n",
    "# Fórmula que serão utilizada no modelo\n",
    "grupo = \"escola\"\n",
    "componente_fixo = \"desempenho ~ 1\"\n",
    "componente_aleatorio = \"1\"\n",
    "\n",
    "# Criando a segunda run desse experimento no mlflow\n",
    "with mlflow.start_run(run_name=\"Modelo Nulo HLM2\"):\n",
    "\n",
    "    # ==================== INPUTS =============================================\n",
    "\n",
    "    # Parâmetros de entrada e os metadados do dataset são coletadas de forma\n",
    "    # automática por conta do comando mlflow.statsmodels.autolog()\n",
    "\n",
    "    # ============================= MODELAGEM =================================\n",
    "\n",
    "    # Treinamento do modelo\n",
    "    modelo_estudante_escola_nulo_hlm2 = sm.MixedLM.from_formula(\n",
    "        formula=componente_fixo,\n",
    "        groups=grupo,\n",
    "        re_formula=componente_aleatorio,\n",
    "        data=df_estudante_escola,\n",
    "    ).fit()\n",
    "\n",
    "    # ==================== OUTPUTS ============================================\n",
    "\n",
    "    # Métricas e artefatos do modelo são coletadas de forma automática por con-\n",
    "    # ta do comando mlflow.statsmodels.autolog()"
   ]
  },
  {
   "cell_type": "code",
   "execution_count": 58,
   "metadata": {},
   "outputs": [
    {
     "name": "stderr",
     "output_type": "stream",
     "text": [
      "2024/10/20 17:49:29 WARNING mlflow.models.model: Model logged without a signature and input example. Please set `input_example` parameter when logging the model to auto infer the model signature.\n",
      "2024/10/20 17:49:29 INFO mlflow.tracking._tracking_service.client: 🏃 View run Modelo com Interceptos Aleatórios HLM2 at: http://localhost:5000/#/experiments/479809308707295081/runs/13d7337bd5734bedb76e00b902a6a49e.\n",
      "2024/10/20 17:49:29 INFO mlflow.tracking._tracking_service.client: 🧪 View experiment at: http://localhost:5000/#/experiments/479809308707295081.\n"
     ]
    }
   ],
   "source": [
    "# ====================== TERCEIRO MODELO DO EXPERIMENTO =======================\n",
    "\n",
    "# Modelo proposto: Modelo com interceptos aleatórios HLM2\n",
    "\n",
    "# Fórmula que serão utilizada no modelo\n",
    "grupo = \"escola\"\n",
    "componente_fixo = \"desempenho ~ horas\"\n",
    "componente_aleatorio = \"1\"\n",
    "\n",
    "# Criando a terceira run desse experimento no mlflow\n",
    "with mlflow.start_run(run_name=\"Modelo com Interceptos Aleatórios HLM2\"):\n",
    "\n",
    "    # ==================== INPUTS =============================================\n",
    "\n",
    "    # Parâmetros de entrada e os metadados do dataset são coletadas de forma\n",
    "    # automática por conta do comando mlflow.statsmodels.autolog()\n",
    "\n",
    "    # ============================= MODELAGEM =================================\n",
    "\n",
    "    # Treinamento do modelo\n",
    "    modelo_estudante_escola_intercept_hlm2 = sm.MixedLM.from_formula(\n",
    "        formula=componente_fixo,\n",
    "        groups=grupo,\n",
    "        re_formula=componente_aleatorio,\n",
    "        data=df_estudante_escola,\n",
    "    ).fit()\n",
    "\n",
    "    # ==================== OUTPUTS ============================================\n",
    "\n",
    "    # Métricas e artefatos do modelo são coletadas de forma automática por con-\n",
    "    # ta do comando mlflow.statsmodels.autolog()"
   ]
  },
  {
   "cell_type": "code",
   "execution_count": 59,
   "metadata": {},
   "outputs": [
    {
     "name": "stderr",
     "output_type": "stream",
     "text": [
      "2024/10/20 17:49:33 WARNING mlflow.models.model: Model logged without a signature and input example. Please set `input_example` parameter when logging the model to auto infer the model signature.\n",
      "2024/10/20 17:49:33 INFO mlflow.tracking._tracking_service.client: 🏃 View run Modelo com Interceptos e Inclinações Aleatórios HLM2 at: http://localhost:5000/#/experiments/479809308707295081/runs/94aa27518243483995c3d77fa951ea32.\n",
      "2024/10/20 17:49:33 INFO mlflow.tracking._tracking_service.client: 🧪 View experiment at: http://localhost:5000/#/experiments/479809308707295081.\n"
     ]
    }
   ],
   "source": [
    "# ====================== QUARTO MODELO DO EXPERIMENTO =======================\n",
    "\n",
    "# Modelo proposto: Modelo com interceptos e inclinações aleatórios HLM2\n",
    "\n",
    "# Fórmula que serão utilizada no modelo\n",
    "grupo = \"escola\"\n",
    "componente_fixo = \"desempenho ~ horas\"\n",
    "componente_aleatorio = \"horas\"\n",
    "\n",
    "# Criando a quarta run desse experimento no mlflow\n",
    "with mlflow.start_run(\n",
    "    run_name=\"Modelo com Interceptos e Inclinações Aleatórios HLM2\"\n",
    "):\n",
    "\n",
    "    # ==================== INPUTS =============================================\n",
    "\n",
    "    # Parâmetros de entrada e os metadados do dataset são coletadas de forma\n",
    "    # automática por conta do comando mlflow.statsmodels.autolog()\n",
    "\n",
    "    # ============================= MODELAGEM =================================\n",
    "\n",
    "    # Treinamento do modelo\n",
    "    modelo_estudante_escola_intercept_inclin_hlm2 = sm.MixedLM.from_formula(\n",
    "        formula=componente_fixo,\n",
    "        groups=grupo,\n",
    "        re_formula=componente_aleatorio,\n",
    "        data=df_estudante_escola,\n",
    "    ).fit()\n",
    "\n",
    "    # ==================== OUTPUTS ============================================\n",
    "\n",
    "    # Métricas e artefatos do modelo são coletadas de forma automática por con-\n",
    "    # ta do comando mlflow.statsmodels.autolog()"
   ]
  },
  {
   "cell_type": "code",
   "execution_count": 60,
   "metadata": {},
   "outputs": [
    {
     "name": "stderr",
     "output_type": "stream",
     "text": [
      "2024/10/20 17:49:38 WARNING mlflow.models.model: Model logged without a signature and input example. Please set `input_example` parameter when logging the model to auto infer the model signature.\n",
      "2024/10/20 17:49:38 INFO mlflow.tracking._tracking_service.client: 🏃 View run Modelo Final com Interceptos e Inclinações Aleatórios HLM2 at: http://localhost:5000/#/experiments/479809308707295081/runs/fe7cd7969c5b4e09af5c09cea215befa.\n",
      "2024/10/20 17:49:38 INFO mlflow.tracking._tracking_service.client: 🧪 View experiment at: http://localhost:5000/#/experiments/479809308707295081.\n"
     ]
    }
   ],
   "source": [
    "# ====================== QUNTO MODELO DO EXPERIMENTO ==========================\n",
    "\n",
    "# Modelo proposto: Modelo final com interceptos e inclinações aleatórios HLM2\n",
    "\n",
    "# Fórmula que serão utilizada no modelo\n",
    "grupo = \"escola\"\n",
    "componente_fixo = \"desempenho ~ horas + texp + horas:texp\"\n",
    "componente_aleatorio = \"horas\"\n",
    "\n",
    "# Criando a quinta run desse experimento no mlflow\n",
    "with mlflow.start_run(\n",
    "    run_name=\"Modelo Final com Interceptos e Inclinações Aleatórios HLM2\"\n",
    "):\n",
    "\n",
    "    # ==================== INPUTS =============================================\n",
    "\n",
    "    # Parâmetros de entrada e os metadados do dataset são coletadas de forma\n",
    "    # automática por conta do comando mlflow.statsmodels.autolog()\n",
    "\n",
    "    # ============================= MODELAGEM =================================\n",
    "\n",
    "    # Treinamento do modelo\n",
    "    modelo_estudante_escola_final_hlm2 = sm.MixedLM.from_formula(\n",
    "        formula=componente_fixo,\n",
    "        groups=grupo,\n",
    "        re_formula=componente_aleatorio,\n",
    "        data=df_estudante_escola,\n",
    "    ).fit()\n",
    "\n",
    "    # ==================== OUTPUTS ============================================\n",
    "\n",
    "    # Métricas e artefatos do modelo são coletadas de forma automática por con-\n",
    "    # ta do comando mlflow.statsmodels.autolog()"
   ]
  },
  {
   "cell_type": "code",
   "execution_count": null,
   "metadata": {},
   "outputs": [],
   "source": [
    "# Necessário ir lá e registrar o modelo para a fase de produção \n",
    "# para ser consumido via API do Mlflow"
   ]
  },
  {
   "cell_type": "code",
   "execution_count": null,
   "metadata": {},
   "outputs": [],
   "source": [
    "# =================== SERVINDO O MODELO HLM2 EM PRODUÇÃO  =====================\n",
    "\n",
    "# Acesse um novo terminal e ative o ambiente virtual que foi criado. Não feche\n",
    "# o terminal que está rodando o Mlflow.\n",
    "# Verifique o Passo 2 do \"Instruções Aula - Big Data e Deployment de Modelos\"\n",
    "# para mais dúvidas.\n",
    "\n",
    "# Para acessar um novo ambiente virtual\n",
    "# Digite no terminal (no mesmo diretório onde a pasta venv se encontra):\n",
    "# =============================================================================\n",
    "# cd <DIRETORIO_ONDE_O_VENV_FOI_CRIADO>\n",
    "# Windows: .\\venv\\Scripts\\activate\n",
    "# Linux/macOS: source /venv/bin/activate\n",
    "# O nome (venv) deverá aparecer no início do campo do terminal\n",
    "\n",
    "# Adicione a variável de ambiente para o rastreamento de onde está o Mlflow\n",
    "# Digite no terminal:\n",
    "# =============================================================================\n",
    "# Linux/macOS: EXPORT MLFLOW_TRACKING_URI=http://localhost:5000\n",
    "# Windows: SET MLFLOW_TRACKING_URI=http://localhost:5000\n",
    "# =============================================================================\n",
    "\n",
    "# Sirva o modelo estudante-escola em fase de produção para ser acessado na\n",
    "# porta 5300 via API do Mlflow\n",
    "# Digite no terminal:\n",
    "# =============================================================================\n",
    "# mlflow models serve -m models:/estudante-escola/production -p 5300 --no-conda\n",
    "# ============================================================================="
   ]
  },
  {
   "cell_type": "code",
   "execution_count": 61,
   "metadata": {},
   "outputs": [
    {
     "data": {
      "text/html": [
       "<div>\n",
       "<style scoped>\n",
       "    .dataframe tbody tr th:only-of-type {\n",
       "        vertical-align: middle;\n",
       "    }\n",
       "\n",
       "    .dataframe tbody tr th {\n",
       "        vertical-align: top;\n",
       "    }\n",
       "\n",
       "    .dataframe thead th {\n",
       "        text-align: right;\n",
       "    }\n",
       "</style>\n",
       "<table border=\"1\" class=\"dataframe\">\n",
       "  <thead>\n",
       "    <tr style=\"text-align: right;\">\n",
       "      <th></th>\n",
       "      <th>escola</th>\n",
       "      <th>horas</th>\n",
       "      <th>texp</th>\n",
       "    </tr>\n",
       "  </thead>\n",
       "  <tbody>\n",
       "    <tr>\n",
       "      <th>0</th>\n",
       "      <td>1</td>\n",
       "      <td>11</td>\n",
       "      <td>3.6</td>\n",
       "    </tr>\n",
       "  </tbody>\n",
       "</table>\n",
       "</div>"
      ],
      "text/plain": [
       "  escola  horas  texp\n",
       "0      1     11   3.6"
      ]
     },
     "execution_count": 61,
     "metadata": {},
     "output_type": "execute_result"
    }
   ],
   "source": [
    "# Criando um dataframe para realizar um predict no nosso modelo em produção via\n",
    "# API do Mlflow\n",
    "df_novos_dados = pd.DataFrame({\"escola\": [\"1\"], \"horas\": [11], \"texp\": [3.6]})\n",
    "df_novos_dados"
   ]
  },
  {
   "cell_type": "code",
   "execution_count": 62,
   "metadata": {},
   "outputs": [
    {
     "data": {
      "text/plain": [
       "'{\"dataframe_records\": [{\"escola\": \"1\", \"horas\": 11, \"texp\": 3.6}]}'"
      ]
     },
     "execution_count": 62,
     "metadata": {},
     "output_type": "execute_result"
    }
   ],
   "source": [
    "# Transformando os dados para o formato requisitação pela documentação da API\n",
    "#  do mlflow\n",
    "dados_transformados = json.dumps(\n",
    "    {\"dataframe_records\": df_novos_dados.to_dict(orient=\"records\")}\n",
    ")\n",
    "dados_transformados"
   ]
  },
  {
   "cell_type": "code",
   "execution_count": 63,
   "metadata": {},
   "outputs": [
    {
     "data": {
      "text/plain": [
       "{'predictions': [{'0': 21.885818777438494}]}"
      ]
     },
     "execution_count": 63,
     "metadata": {},
     "output_type": "execute_result"
    }
   ],
   "source": [
    "# Realizando a requisição ao modelo via API do Mlflow e coletando a resposta\n",
    "response = requests.post(\n",
    "    #url=\"http://localhost:5300/invocations\",\n",
    "    url=\"http://127.0.0.1:5300/invocations\",\n",
    "    data=dados_transformados,\n",
    "    headers={\"Content-Type\": \"application/json\"},\n",
    ")\n",
    "\n",
    "# Verificando o retorno da requisição\n",
    "response.json()\n",
    "\n",
    "# Lembrando que o predict da função MixedLM retorna o resultado do componente\n",
    "# fixo"
   ]
  },
  {
   "cell_type": "code",
   "execution_count": 64,
   "metadata": {},
   "outputs": [
    {
     "data": {
      "text/plain": [
       "21.885818777438494"
      ]
     },
     "execution_count": 64,
     "metadata": {},
     "output_type": "execute_result"
    }
   ],
   "source": [
    "# Coletando o predict dentro do objeto json\n",
    "response.json()['predictions'][0][\"0\"]\n",
    "\n",
    "# =========================== FIM DO SCRIPT ==================================="
   ]
  }
 ],
 "metadata": {
  "kernelspec": {
   "display_name": ".venv",
   "language": "python",
   "name": "python3"
  },
  "language_info": {
   "codemirror_mode": {
    "name": "ipython",
    "version": 3
   },
   "file_extension": ".py",
   "mimetype": "text/x-python",
   "name": "python",
   "nbconvert_exporter": "python",
   "pygments_lexer": "ipython3",
   "version": "3.12.3"
  }
 },
 "nbformat": 4,
 "nbformat_minor": 2
}
